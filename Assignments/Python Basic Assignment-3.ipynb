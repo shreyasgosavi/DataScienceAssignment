{
 "cells": [
  {
   "cell_type": "markdown",
   "id": "7aac1fc4",
   "metadata": {},
   "source": [
    "# Assignment 3"
   ]
  },
  {
   "cell_type": "markdown",
   "id": "f08cae3c",
   "metadata": {},
   "source": [
    "## Question 1"
   ]
  },
  {
   "cell_type": "code",
   "execution_count": 1,
   "id": "1a2a63b1",
   "metadata": {},
   "outputs": [
    {
     "ename": "SyntaxError",
     "evalue": "invalid syntax (1602377904.py, line 1)",
     "output_type": "error",
     "traceback": [
      "\u001b[1;36m  Input \u001b[1;32mIn [1]\u001b[1;36m\u001b[0m\n\u001b[1;33m    Function is a program which performs specified operations. It is a block of code that can be used again and again in the\u001b[0m\n\u001b[1;37m                  ^\u001b[0m\n\u001b[1;31mSyntaxError\u001b[0m\u001b[1;31m:\u001b[0m invalid syntax\n"
     ]
    }
   ],
   "source": [
    "Function is a program which performs specified operations. It is a block of code that can be used again and again in the \n",
    "program. \n",
    "In python functions are defined by def keyword.\n",
    "Functions returns the results after performing the operation.\n",
    "\n",
    "Functions helps to avoid re-writing of the code. \n",
    "Functions split the program into seperate blocks of code which makes the code more readable.\n",
    "Functions make the code modular and the term of programming is modular programming.\n",
    "Functions are to solve particular problem and that code can then be uploaded so that others can also use that code."
   ]
  },
  {
   "cell_type": "markdown",
   "id": "737a4560",
   "metadata": {},
   "source": [
    "## Question 2"
   ]
  },
  {
   "cell_type": "code",
   "execution_count": null,
   "id": "8031cb14",
   "metadata": {},
   "outputs": [],
   "source": [
    "The code in  a function runs when it is called by using the name of the function followed by the parenthesis.\n",
    "Eg :\n",
    "    def sum(a+b):\n",
    "        return a+b\n",
    "    \n",
    "    sum(4,5) <-- after calling the function will run.\n"
   ]
  },
  {
   "cell_type": "markdown",
   "id": "ddd0e9ba",
   "metadata": {},
   "source": [
    "## Question 3"
   ]
  },
  {
   "cell_type": "code",
   "execution_count": null,
   "id": "5e279b84",
   "metadata": {},
   "outputs": [],
   "source": [
    "The def keyword is used to create a function in python."
   ]
  },
  {
   "cell_type": "markdown",
   "id": "54c99593",
   "metadata": {},
   "source": [
    "## Question 4"
   ]
  },
  {
   "cell_type": "code",
   "execution_count": null,
   "id": "a8bd6d97",
   "metadata": {},
   "outputs": [],
   "source": [
    "Function is a block of code that performs specified operation, its operation are defined here where-as function call is used\n",
    "to call the function i.e. executing the instructions of the function."
   ]
  },
  {
   "cell_type": "markdown",
   "id": "ff751fe3",
   "metadata": {},
   "source": [
    "## Question 5"
   ]
  },
  {
   "cell_type": "code",
   "execution_count": 2,
   "id": "8e4bf592",
   "metadata": {},
   "outputs": [
    {
     "ename": "SyntaxError",
     "evalue": "invalid syntax (825013946.py, line 1)",
     "output_type": "error",
     "traceback": [
      "\u001b[1;36m  Input \u001b[1;32mIn [2]\u001b[1;36m\u001b[0m\n\u001b[1;33m    Scopes in python :\u001b[0m\n\u001b[1;37m                      ^\u001b[0m\n\u001b[1;31mSyntaxError\u001b[0m\u001b[1;31m:\u001b[0m invalid syntax\n"
     ]
    }
   ],
   "source": [
    "Scopes in python :\n",
    "    Global Scope :There is only one global scope in one program in python. They are defined outside the functions.\n",
    "    \n",
    "    Local Scope : The number of local scope in entire program depends on the number of functions defined. The variables\n",
    "            defined inside the functions are local scope."
   ]
  },
  {
   "cell_type": "markdown",
   "id": "fbdc4003",
   "metadata": {},
   "source": [
    "## Question 6"
   ]
  },
  {
   "cell_type": "code",
   "execution_count": null,
   "id": "4a4b6231",
   "metadata": {},
   "outputs": [],
   "source": [
    "Function call returns means that the function is executed and comes out of the function block. The local variables are \n",
    "destroyed after the execution of the function code."
   ]
  },
  {
   "cell_type": "markdown",
   "id": "978220eb",
   "metadata": {},
   "source": [
    "## Question 7"
   ]
  },
  {
   "cell_type": "code",
   "execution_count": 3,
   "id": "7ff4ee06",
   "metadata": {},
   "outputs": [
    {
     "ename": "SyntaxError",
     "evalue": "invalid syntax (404052478.py, line 1)",
     "output_type": "error",
     "traceback": [
      "\u001b[1;36m  Input \u001b[1;32mIn [3]\u001b[1;36m\u001b[0m\n\u001b[1;33m    Return value of the function is the value that it gives after execution of the code. The value can be stored in a variable\u001b[0m\n\u001b[1;37m           ^\u001b[0m\n\u001b[1;31mSyntaxError\u001b[0m\u001b[1;31m:\u001b[0m invalid syntax\n"
     ]
    }
   ],
   "source": [
    "Return value of the function is the value that it gives after execution of the code. The value can be stored in a variable \n",
    "and can be used in further execution.  \n",
    "\n",
    "eg \n",
    "    def add(a,b):\n",
    "        return a+b\n",
    "    \n",
    "    ans = add(4,5)\n",
    "    \n",
    "Yes it is possible to return the value as expression as represented in the above example, but the expression should be valid."
   ]
  },
  {
   "cell_type": "markdown",
   "id": "f537a485",
   "metadata": {},
   "source": [
    "## Question 8"
   ]
  },
  {
   "cell_type": "code",
   "execution_count": null,
   "id": "33c46cb0",
   "metadata": {},
   "outputs": [],
   "source": [
    "If a funtion does not have a return type value then it will not return any value which is of None-Type"
   ]
  },
  {
   "cell_type": "code",
   "execution_count": 5,
   "id": "3c4b681a",
   "metadata": {},
   "outputs": [],
   "source": [
    "def detail():\n",
    "    print(\"hi\")"
   ]
  },
  {
   "cell_type": "code",
   "execution_count": 6,
   "id": "68a5b98b",
   "metadata": {},
   "outputs": [
    {
     "name": "stdout",
     "output_type": "stream",
     "text": [
      "hi\n"
     ]
    }
   ],
   "source": [
    "detail()"
   ]
  },
  {
   "cell_type": "code",
   "execution_count": 7,
   "id": "128ce201",
   "metadata": {},
   "outputs": [
    {
     "name": "stdout",
     "output_type": "stream",
     "text": [
      "hi\n"
     ]
    },
    {
     "data": {
      "text/plain": [
       "NoneType"
      ]
     },
     "execution_count": 7,
     "metadata": {},
     "output_type": "execute_result"
    }
   ],
   "source": [
    "type(detail())  # <-- the type of the return type is none type "
   ]
  },
  {
   "cell_type": "markdown",
   "id": "1c343f97",
   "metadata": {},
   "source": [
    "## Question 9"
   ]
  },
  {
   "cell_type": "code",
   "execution_count": 8,
   "id": "d22b8560",
   "metadata": {},
   "outputs": [],
   "source": [
    "#EG 1 \n",
    "a = 7\n",
    "def temp():\n",
    "    a \n",
    "    print(a)"
   ]
  },
  {
   "cell_type": "code",
   "execution_count": 9,
   "id": "4af0a5a3",
   "metadata": {},
   "outputs": [
    {
     "name": "stdout",
     "output_type": "stream",
     "text": [
      "7\n"
     ]
    }
   ],
   "source": [
    "temp()"
   ]
  },
  {
   "cell_type": "code",
   "execution_count": 10,
   "id": "0ebf2ac9",
   "metadata": {},
   "outputs": [
    {
     "name": "stdout",
     "output_type": "stream",
     "text": [
      "7\n"
     ]
    }
   ],
   "source": [
    "#EG 2\n",
    "def temp():\n",
    "    a = 4\n",
    "    print(a)\n",
    "print(a)"
   ]
  },
  {
   "cell_type": "code",
   "execution_count": 11,
   "id": "5ca8cf28",
   "metadata": {},
   "outputs": [
    {
     "name": "stdout",
     "output_type": "stream",
     "text": [
      "4\n"
     ]
    }
   ],
   "source": [
    "temp()"
   ]
  },
  {
   "cell_type": "code",
   "execution_count": 12,
   "id": "a79298f8",
   "metadata": {},
   "outputs": [
    {
     "data": {
      "text/plain": [
       "7"
      ]
     },
     "execution_count": 12,
     "metadata": {},
     "output_type": "execute_result"
    }
   ],
   "source": [
    "a"
   ]
  },
  {
   "cell_type": "code",
   "execution_count": null,
   "id": "d88fc857",
   "metadata": {},
   "outputs": [],
   "source": [
    "From the above 2 examples it is clear that the local variable normally refer to the global variable .\n",
    "TO refer to the global variable the keyword global is used, after which changes in the variable inside the function will\n",
    "also reflect in the global variable."
   ]
  },
  {
   "cell_type": "code",
   "execution_count": 13,
   "id": "b1d996a0",
   "metadata": {},
   "outputs": [],
   "source": [
    "b = 10\n",
    "def example():\n",
    "    global b;\n",
    "    b = 5"
   ]
  },
  {
   "cell_type": "code",
   "execution_count": 14,
   "id": "d72bf9f6",
   "metadata": {},
   "outputs": [
    {
     "data": {
      "text/plain": [
       "10"
      ]
     },
     "execution_count": 14,
     "metadata": {},
     "output_type": "execute_result"
    }
   ],
   "source": [
    "b"
   ]
  },
  {
   "cell_type": "code",
   "execution_count": 15,
   "id": "27d360e2",
   "metadata": {},
   "outputs": [],
   "source": [
    "example()"
   ]
  },
  {
   "cell_type": "code",
   "execution_count": 16,
   "id": "112a6aa8",
   "metadata": {},
   "outputs": [
    {
     "data": {
      "text/plain": [
       "5"
      ]
     },
     "execution_count": 16,
     "metadata": {},
     "output_type": "execute_result"
    }
   ],
   "source": [
    "b"
   ]
  },
  {
   "cell_type": "markdown",
   "id": "17435bf6",
   "metadata": {},
   "source": [
    "## Question 10"
   ]
  },
  {
   "cell_type": "code",
   "execution_count": null,
   "id": "830f3b76",
   "metadata": {},
   "outputs": [],
   "source": [
    "Data type of none is NoneType "
   ]
  },
  {
   "cell_type": "code",
   "execution_count": 17,
   "id": "25a0e688",
   "metadata": {},
   "outputs": [
    {
     "data": {
      "text/plain": [
       "NoneType"
      ]
     },
     "execution_count": 17,
     "metadata": {},
     "output_type": "execute_result"
    }
   ],
   "source": [
    "type(None) # <-- NoneType"
   ]
  },
  {
   "cell_type": "markdown",
   "id": "e80d184f",
   "metadata": {},
   "source": [
    "## Question 11"
   ]
  },
  {
   "cell_type": "code",
   "execution_count": 18,
   "id": "8cdacdb5",
   "metadata": {},
   "outputs": [
    {
     "ename": "ModuleNotFoundError",
     "evalue": "No module named 'areallyourpetsnamederic'",
     "output_type": "error",
     "traceback": [
      "\u001b[1;31m---------------------------------------------------------------------------\u001b[0m",
      "\u001b[1;31mModuleNotFoundError\u001b[0m                       Traceback (most recent call last)",
      "Input \u001b[1;32mIn [18]\u001b[0m, in \u001b[0;36m<cell line: 1>\u001b[1;34m()\u001b[0m\n\u001b[1;32m----> 1\u001b[0m \u001b[38;5;28;01mimport\u001b[39;00m \u001b[38;5;21;01mareallyourpetsnamederic\u001b[39;00m\n",
      "\u001b[1;31mModuleNotFoundError\u001b[0m: No module named 'areallyourpetsnamederic'"
     ]
    }
   ],
   "source": [
    "import areallyourpetsnamederic"
   ]
  },
  {
   "cell_type": "code",
   "execution_count": null,
   "id": "062cf90e",
   "metadata": {},
   "outputs": [],
   "source": [
    "The above statement throws an error giving the message that such module doesn't exist."
   ]
  },
  {
   "cell_type": "markdown",
   "id": "0d51b5f2",
   "metadata": {},
   "source": [
    "## Question 12"
   ]
  },
  {
   "cell_type": "code",
   "execution_count": null,
   "id": "869a90cf",
   "metadata": {},
   "outputs": [],
   "source": [
    "The bacon() feature can be called after importing the spam module as :\n",
    "    spam.bacon()"
   ]
  },
  {
   "cell_type": "markdown",
   "id": "f96617d1",
   "metadata": {},
   "source": [
    "## Question 13"
   ]
  },
  {
   "cell_type": "code",
   "execution_count": null,
   "id": "78c07c8e",
   "metadata": {},
   "outputs": [],
   "source": [
    "We can add try-catch block to the portion of the program that is prone to giving an error. They are used to ignore the \n",
    "errors by executing the exception block in order to avoid the crashing of the program.\n",
    "\n",
    "They are used to avoid the run-time error of the program."
   ]
  },
  {
   "cell_type": "markdown",
   "id": "7754f4fb",
   "metadata": {},
   "source": [
    "## Question 14"
   ]
  },
  {
   "cell_type": "code",
   "execution_count": null,
   "id": "67851d02",
   "metadata": {},
   "outputs": [],
   "source": [
    "The purpose of try clause to find the error while exeuting the code and avoiding the crashing of the code by moving that to\n",
    "the except block.\n",
    "\n",
    "Except block is used to handle the errors. "
   ]
  }
 ],
 "metadata": {
  "kernelspec": {
   "display_name": "Python 3 (ipykernel)",
   "language": "python",
   "name": "python3"
  },
  "language_info": {
   "codemirror_mode": {
    "name": "ipython",
    "version": 3
   },
   "file_extension": ".py",
   "mimetype": "text/x-python",
   "name": "python",
   "nbconvert_exporter": "python",
   "pygments_lexer": "ipython3",
   "version": "3.9.12"
  }
 },
 "nbformat": 4,
 "nbformat_minor": 5
}
