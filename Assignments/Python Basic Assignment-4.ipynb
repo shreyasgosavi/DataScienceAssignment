{
 "cells": [
  {
   "cell_type": "markdown",
   "id": "60bb844c",
   "metadata": {},
   "source": [
    "## Assignment 4"
   ]
  },
  {
   "cell_type": "markdown",
   "id": "1d9a4b69",
   "metadata": {},
   "source": [
    "### Question 1"
   ]
  },
  {
   "cell_type": "code",
   "execution_count": null,
   "id": "1ef9c232",
   "metadata": {},
   "outputs": [],
   "source": [
    "[] <-- is a parenthesis which is used to declare a variable as a list. List is a container object which is used to stored\n",
    "different objects."
   ]
  },
  {
   "cell_type": "markdown",
   "id": "c800f16c",
   "metadata": {},
   "source": [
    "### Question 2"
   ]
  },
  {
   "cell_type": "code",
   "execution_count": 1,
   "id": "63374e91",
   "metadata": {},
   "outputs": [],
   "source": [
    "spam = [2,4,6,8,10]"
   ]
  },
  {
   "cell_type": "code",
   "execution_count": null,
   "id": "41b02315",
   "metadata": {},
   "outputs": [],
   "source": [
    "Assigning \"hello\" as a third value in the list. List are 0-indexed , if we need to place it after 4 then we need to access \n",
    "the 2nd index. "
   ]
  },
  {
   "cell_type": "code",
   "execution_count": 3,
   "id": "fd3bd0aa",
   "metadata": {},
   "outputs": [],
   "source": [
    "spam.insert(2,\"hello\")"
   ]
  },
  {
   "cell_type": "code",
   "execution_count": 4,
   "id": "61db2738",
   "metadata": {},
   "outputs": [
    {
     "data": {
      "text/plain": [
       "[2, 4, 'hello', 6, 8, 10]"
      ]
     },
     "execution_count": 4,
     "metadata": {},
     "output_type": "execute_result"
    }
   ],
   "source": [
    "spam"
   ]
  },
  {
   "cell_type": "markdown",
   "id": "3cd914b0",
   "metadata": {},
   "source": [
    "#### Given"
   ]
  },
  {
   "cell_type": "code",
   "execution_count": 2,
   "id": "34edf5fa",
   "metadata": {},
   "outputs": [],
   "source": [
    "spam = ['a','b','c','d']"
   ]
  },
  {
   "cell_type": "markdown",
   "id": "c85a9681",
   "metadata": {},
   "source": [
    "## Question 3"
   ]
  },
  {
   "cell_type": "code",
   "execution_count": 6,
   "id": "311cf9fb",
   "metadata": {},
   "outputs": [],
   "source": [
    "a = int(int('3'*2)/11)"
   ]
  },
  {
   "cell_type": "code",
   "execution_count": 7,
   "id": "11b61919",
   "metadata": {},
   "outputs": [
    {
     "data": {
      "text/plain": [
       "3"
      ]
     },
     "execution_count": 7,
     "metadata": {},
     "output_type": "execute_result"
    }
   ],
   "source": [
    "a"
   ]
  },
  {
   "cell_type": "code",
   "execution_count": null,
   "id": "3b163b6d",
   "metadata": {},
   "outputs": [],
   "source": [
    "In the above expresion '3' * 2 will repeat the string 3 two times making it '33' and then converting it to int makes it 33\n",
    ". 33/11 = 3"
   ]
  },
  {
   "cell_type": "code",
   "execution_count": 8,
   "id": "b3e9ad56",
   "metadata": {},
   "outputs": [
    {
     "data": {
      "text/plain": [
       "'d'"
      ]
     },
     "execution_count": 8,
     "metadata": {},
     "output_type": "execute_result"
    }
   ],
   "source": [
    "spam[a]   #< --- Ans is 'd'"
   ]
  },
  {
   "cell_type": "markdown",
   "id": "e5b34207",
   "metadata": {},
   "source": [
    "## Question 4"
   ]
  },
  {
   "cell_type": "code",
   "execution_count": 10,
   "id": "ae04fada",
   "metadata": {},
   "outputs": [
    {
     "data": {
      "text/plain": [
       "'d'"
      ]
     },
     "execution_count": 10,
     "metadata": {},
     "output_type": "execute_result"
    }
   ],
   "source": [
    "spam[-1]   #   <-- It will return the value of the last index"
   ]
  },
  {
   "cell_type": "markdown",
   "id": "6d425020",
   "metadata": {},
   "source": [
    "## Question 5"
   ]
  },
  {
   "cell_type": "code",
   "execution_count": 3,
   "id": "94c6871d",
   "metadata": {},
   "outputs": [
    {
     "data": {
      "text/plain": [
       "['a', 'b']"
      ]
     },
     "execution_count": 3,
     "metadata": {},
     "output_type": "execute_result"
    }
   ],
   "source": [
    "spam[:2]"
   ]
  },
  {
   "cell_type": "code",
   "execution_count": null,
   "id": "72c24b5e",
   "metadata": {},
   "outputs": [],
   "source": []
  },
  {
   "cell_type": "markdown",
   "id": "61283348",
   "metadata": {},
   "source": [
    "### Given"
   ]
  },
  {
   "cell_type": "code",
   "execution_count": 1,
   "id": "81111376",
   "metadata": {},
   "outputs": [],
   "source": [
    "bacon = [3.14, 'cat', 11, 'cat', True]"
   ]
  },
  {
   "cell_type": "markdown",
   "id": "0777c06d",
   "metadata": {},
   "source": [
    "## Question 6"
   ]
  },
  {
   "cell_type": "code",
   "execution_count": 2,
   "id": "1b630dfe",
   "metadata": {},
   "outputs": [
    {
     "data": {
      "text/plain": [
       "1"
      ]
     },
     "execution_count": 2,
     "metadata": {},
     "output_type": "execute_result"
    }
   ],
   "source": [
    "bacon.index('cat')   #   <--  It gives the first occurence of the cat"
   ]
  },
  {
   "cell_type": "markdown",
   "id": "0f8d3a8c",
   "metadata": {},
   "source": [
    "## Question 7"
   ]
  },
  {
   "cell_type": "code",
   "execution_count": 3,
   "id": "dab21313",
   "metadata": {},
   "outputs": [],
   "source": [
    "bacon.append(99)              # <--  [3.14, 'cat', 11, 'cat', True, 99]"
   ]
  },
  {
   "cell_type": "code",
   "execution_count": 4,
   "id": "1c505725",
   "metadata": {},
   "outputs": [
    {
     "data": {
      "text/plain": [
       "[3.14, 'cat', 11, 'cat', True, 99]"
      ]
     },
     "execution_count": 4,
     "metadata": {},
     "output_type": "execute_result"
    }
   ],
   "source": [
    "bacon"
   ]
  },
  {
   "cell_type": "markdown",
   "id": "9a3cd1a1",
   "metadata": {},
   "source": [
    "## Question 8"
   ]
  },
  {
   "cell_type": "code",
   "execution_count": 5,
   "id": "bea46fab",
   "metadata": {},
   "outputs": [],
   "source": [
    "bacon.remove('cat')      #  <-- Removes the first occurence of a cat in the list    [3.14, 11, 'cat', True, 99]"
   ]
  },
  {
   "cell_type": "code",
   "execution_count": 6,
   "id": "02524f66",
   "metadata": {},
   "outputs": [
    {
     "data": {
      "text/plain": [
       "[3.14, 11, 'cat', True, 99]"
      ]
     },
     "execution_count": 6,
     "metadata": {},
     "output_type": "execute_result"
    }
   ],
   "source": [
    "bacon"
   ]
  },
  {
   "cell_type": "markdown",
   "id": "ddccb2aa",
   "metadata": {},
   "source": [
    "## Question 9"
   ]
  },
  {
   "cell_type": "code",
   "execution_count": null,
   "id": "d469e5c9",
   "metadata": {},
   "outputs": [],
   "source": [
    "List concatenation operators :\n",
    "    We can concatenate two lists using '+' operator\n",
    "    We can concatenate a list with other list only.\n",
    "    Data-structure should of both objects should be list"
   ]
  },
  {
   "cell_type": "code",
   "execution_count": 7,
   "id": "babdf281",
   "metadata": {},
   "outputs": [
    {
     "data": {
      "text/plain": [
       "[2, 3, 4, 6]"
      ]
     },
     "execution_count": 7,
     "metadata": {},
     "output_type": "execute_result"
    }
   ],
   "source": [
    "l1 = [2,3,4]\n",
    "l2 = [6]\n",
    "l1+l2"
   ]
  },
  {
   "cell_type": "code",
   "execution_count": null,
   "id": "3ba835cb",
   "metadata": {},
   "outputs": [],
   "source": [
    "List Replication operation:\n",
    "    Like strings we use * for list replication"
   ]
  },
  {
   "cell_type": "code",
   "execution_count": 9,
   "id": "891c3f99",
   "metadata": {},
   "outputs": [
    {
     "data": {
      "text/plain": [
       "[2, 3, 4, 2, 3, 4]"
      ]
     },
     "execution_count": 9,
     "metadata": {},
     "output_type": "execute_result"
    }
   ],
   "source": [
    "l1*2             # <-- list replication"
   ]
  },
  {
   "cell_type": "markdown",
   "id": "3d1a865e",
   "metadata": {},
   "source": [
    "## Question 10"
   ]
  },
  {
   "cell_type": "code",
   "execution_count": null,
   "id": "ba322669",
   "metadata": {},
   "outputs": [],
   "source": [
    "List Append method is used to add the element to the end of the list.\n",
    "The type of the value that is appended can be anything."
   ]
  },
  {
   "cell_type": "code",
   "execution_count": 10,
   "id": "bd0dbd4c",
   "metadata": {},
   "outputs": [],
   "source": [
    "l_1 = [3,4,5]"
   ]
  },
  {
   "cell_type": "code",
   "execution_count": 11,
   "id": "ffd9e059",
   "metadata": {},
   "outputs": [],
   "source": [
    "l_1.append(\"SHR\")       # <-  [3, 4, 5, 'SHR']"
   ]
  },
  {
   "cell_type": "code",
   "execution_count": 12,
   "id": "ead06781",
   "metadata": {},
   "outputs": [
    {
     "data": {
      "text/plain": [
       "[3, 4, 5, 'SHR']"
      ]
     },
     "execution_count": 12,
     "metadata": {},
     "output_type": "execute_result"
    }
   ],
   "source": [
    "l_1"
   ]
  },
  {
   "cell_type": "code",
   "execution_count": null,
   "id": "c3995aa6",
   "metadata": {},
   "outputs": [],
   "source": [
    "List Insert method is used to add the element at the specified location.\n",
    "It adds the value before the element at the specified location. "
   ]
  },
  {
   "cell_type": "code",
   "execution_count": 23,
   "id": "fc8a6f6f",
   "metadata": {},
   "outputs": [],
   "source": [
    "l_2 = [3,4,5]"
   ]
  },
  {
   "cell_type": "code",
   "execution_count": 24,
   "id": "7c620102",
   "metadata": {},
   "outputs": [],
   "source": [
    "l_2.insert(1,\"SHR\")"
   ]
  },
  {
   "cell_type": "code",
   "execution_count": 25,
   "id": "d7e57d4b",
   "metadata": {},
   "outputs": [
    {
     "data": {
      "text/plain": [
       "[3, 'SHR', 4, 5]"
      ]
     },
     "execution_count": 25,
     "metadata": {},
     "output_type": "execute_result"
    }
   ],
   "source": [
    "l_2                    # <-- [3, 'SHR', 4, 5]"
   ]
  },
  {
   "cell_type": "markdown",
   "id": "aa18933a",
   "metadata": {},
   "source": [
    "## Question 11"
   ]
  },
  {
   "cell_type": "code",
   "execution_count": null,
   "id": "8b1c5f79",
   "metadata": {},
   "outputs": [],
   "source": [
    "Two methods for removing items from the list :\n",
    "    1. Remove :\n",
    "        Removes the first occurence of the given value in the function.\n",
    "        \n",
    "    2. POP:\n",
    "        Pop removes the element that is present in the specified index "
   ]
  },
  {
   "cell_type": "markdown",
   "id": "d01b51dc",
   "metadata": {},
   "source": [
    "## Question 12"
   ]
  },
  {
   "cell_type": "code",
   "execution_count": null,
   "id": "1b09010a",
   "metadata": {},
   "outputs": [],
   "source": [
    "HOW list values and string values are identical ?\n",
    "    \n",
    "    They are identical due to the reasons/ following property:\n",
    "        1. Both values are iterable\n",
    "        2. Both values can be accessed with the help of indexes.\n",
    "        3. They can be accessed through the range[]\n",
    "        "
   ]
  },
  {
   "cell_type": "markdown",
   "id": "0c571f0b",
   "metadata": {},
   "source": [
    "## Question 13"
   ]
  },
  {
   "cell_type": "code",
   "execution_count": null,
   "id": "d8729fd9",
   "metadata": {},
   "outputs": [],
   "source": [
    "Difference between tuples and list:\n",
    "    \n",
    "    Tuples and List are both collection objects that can store data of different type but they \n",
    "    differ due to the following reason:\n",
    "        \n",
    "        1. Tuples are immutable, Lists are mutable\n",
    "        2. Tuples are represented by (), Lists are represented by []\n",
    "        3. There are various range of methods available for the list,\n",
    "           Few methods are available for the tuples.\n",
    "                     \n",
    "            \n",
    "            "
   ]
  },
  {
   "cell_type": "markdown",
   "id": "ec692f3a",
   "metadata": {},
   "source": [
    "## Question 14"
   ]
  },
  {
   "cell_type": "code",
   "execution_count": null,
   "id": "e63c2844",
   "metadata": {},
   "outputs": [],
   "source": [
    "How do you type a tuple value that contains pnly integer 42?"
   ]
  },
  {
   "cell_type": "code",
   "execution_count": 38,
   "id": "dd4100ac",
   "metadata": {},
   "outputs": [],
   "source": [
    "tup = (42,)"
   ]
  },
  {
   "cell_type": "code",
   "execution_count": 39,
   "id": "f92aa775",
   "metadata": {},
   "outputs": [
    {
     "data": {
      "text/plain": [
       "tuple"
      ]
     },
     "execution_count": 39,
     "metadata": {},
     "output_type": "execute_result"
    }
   ],
   "source": [
    "type(tup)"
   ]
  },
  {
   "cell_type": "markdown",
   "id": "e3ee290d",
   "metadata": {},
   "source": [
    "## Question 15"
   ]
  },
  {
   "cell_type": "code",
   "execution_count": null,
   "id": "f4ed1dbd",
   "metadata": {},
   "outputs": [],
   "source": [
    "Getting tuple form from a list"
   ]
  },
  {
   "cell_type": "code",
   "execution_count": 1,
   "id": "2a9ee883",
   "metadata": {},
   "outputs": [],
   "source": [
    "list_1 = [3,4,5,\"SHR\",2,4]"
   ]
  },
  {
   "cell_type": "code",
   "execution_count": 2,
   "id": "1b66e3e4",
   "metadata": {},
   "outputs": [],
   "source": [
    "tuple_1 = tuple(list_1)"
   ]
  },
  {
   "cell_type": "code",
   "execution_count": 3,
   "id": "7397de01",
   "metadata": {},
   "outputs": [
    {
     "data": {
      "text/plain": [
       "(3, 4, 5, 'SHR', 2, 4)"
      ]
     },
     "execution_count": 3,
     "metadata": {},
     "output_type": "execute_result"
    }
   ],
   "source": [
    "tuple_1"
   ]
  },
  {
   "cell_type": "code",
   "execution_count": null,
   "id": "d56e4998",
   "metadata": {},
   "outputs": [],
   "source": [
    "Getting tuple form from a list"
   ]
  },
  {
   "cell_type": "code",
   "execution_count": 4,
   "id": "0f9e88a8",
   "metadata": {},
   "outputs": [],
   "source": [
    "list_2 = list(tuple_1)"
   ]
  },
  {
   "cell_type": "code",
   "execution_count": 5,
   "id": "1569c6e6",
   "metadata": {},
   "outputs": [
    {
     "data": {
      "text/plain": [
       "[3, 4, 5, 'SHR', 2, 4]"
      ]
     },
     "execution_count": 5,
     "metadata": {},
     "output_type": "execute_result"
    }
   ],
   "source": [
    "list_2"
   ]
  },
  {
   "cell_type": "markdown",
   "id": "38261738",
   "metadata": {},
   "source": [
    "## Question 16"
   ]
  },
  {
   "cell_type": "code",
   "execution_count": null,
   "id": "733c4bab",
   "metadata": {},
   "outputs": [],
   "source": [
    "Variables that contain list values are not necessarily list themselves . \n",
    "\n",
    "The variable contain the reference of the list. Variable contains the reference of that list rather than having the value as \n",
    "the list itself\n",
    "\n",
    "In List the elements are liked to each other through the references."
   ]
  },
  {
   "cell_type": "code",
   "execution_count": 23,
   "id": "6b7eb84f",
   "metadata": {},
   "outputs": [],
   "source": [
    "a = [5,5,2,5,\"s\",[5,2,3]]"
   ]
  },
  {
   "cell_type": "code",
   "execution_count": null,
   "id": "7c697c9c",
   "metadata": {},
   "outputs": [],
   "source": []
  },
  {
   "cell_type": "markdown",
   "id": "f8ce3709",
   "metadata": {},
   "source": [
    "## Question 17"
   ]
  },
  {
   "cell_type": "code",
   "execution_count": 48,
   "id": "1c49210d",
   "metadata": {},
   "outputs": [],
   "source": [
    "import copy"
   ]
  },
  {
   "cell_type": "code",
   "execution_count": null,
   "id": "16db255d",
   "metadata": {},
   "outputs": [],
   "source": [
    "copy is the module that is used to create the copy of the collection and store into other reference variable.\n",
    "\n",
    "It has two functions/methods copy() and deepcopy()\n",
    "\n",
    "copy.copy() <--  Creates the new collection variable/objects  and stores the references of the value of the original elements\n",
    "    to it instead of copying the elements entirely.\n",
    "    \n",
    "copy.deepcopy() <-- Creates the new collection object and it creates the copy of the value of all the elements from the original\n",
    "    element to this new collection object. It does this recursively.\n"
   ]
  },
  {
   "cell_type": "code",
   "execution_count": 49,
   "id": "528d21ee",
   "metadata": {},
   "outputs": [],
   "source": [
    "l = [3,4,5,[5,7]]"
   ]
  },
  {
   "cell_type": "code",
   "execution_count": 50,
   "id": "19334f02",
   "metadata": {},
   "outputs": [],
   "source": [
    "#shallow copy \n",
    "\n",
    "sc = copy.copy(l)"
   ]
  },
  {
   "cell_type": "code",
   "execution_count": 51,
   "id": "4cf9d3ad",
   "metadata": {},
   "outputs": [
    {
     "data": {
      "text/plain": [
       "[3, 4, 5, [5, 7]]"
      ]
     },
     "execution_count": 51,
     "metadata": {},
     "output_type": "execute_result"
    }
   ],
   "source": [
    "sc"
   ]
  },
  {
   "cell_type": "code",
   "execution_count": 52,
   "id": "2f008399",
   "metadata": {},
   "outputs": [],
   "source": [
    "sc[0] = 2"
   ]
  },
  {
   "cell_type": "code",
   "execution_count": 53,
   "id": "2e1203d2",
   "metadata": {},
   "outputs": [
    {
     "data": {
      "text/plain": [
       "[2, 4, 5, [5, 7]]"
      ]
     },
     "execution_count": 53,
     "metadata": {},
     "output_type": "execute_result"
    }
   ],
   "source": [
    "sc"
   ]
  },
  {
   "cell_type": "code",
   "execution_count": 54,
   "id": "62bb4cba",
   "metadata": {},
   "outputs": [
    {
     "data": {
      "text/plain": [
       "[3, 4, 5, [5, 7]]"
      ]
     },
     "execution_count": 54,
     "metadata": {},
     "output_type": "execute_result"
    }
   ],
   "source": [
    "l"
   ]
  },
  {
   "cell_type": "code",
   "execution_count": null,
   "id": "18973d8e",
   "metadata": {},
   "outputs": [],
   "source": [
    "We can see that the value of original list does not changes as the child list stores the reference to the variable and once\n",
    "assigned with the new value the variable at the particular index only changes.\n",
    "\n",
    "Hence original list remains unchanged.\n",
    "\n",
    "But when their is nested collection then the value of original collection also changes , as the changes are made to the \n",
    "reference variable where the original collection's index points to.. "
   ]
  },
  {
   "cell_type": "code",
   "execution_count": 55,
   "id": "f893802a",
   "metadata": {},
   "outputs": [],
   "source": [
    "sc[3][0] = 4"
   ]
  },
  {
   "cell_type": "code",
   "execution_count": 56,
   "id": "db4b5c42",
   "metadata": {},
   "outputs": [
    {
     "data": {
      "text/plain": [
       "[2, 4, 5, [4, 7]]"
      ]
     },
     "execution_count": 56,
     "metadata": {},
     "output_type": "execute_result"
    }
   ],
   "source": [
    "sc"
   ]
  },
  {
   "cell_type": "code",
   "execution_count": 57,
   "id": "43f8fe85",
   "metadata": {},
   "outputs": [
    {
     "data": {
      "text/plain": [
       "[3, 4, 5, [4, 7]]"
      ]
     },
     "execution_count": 57,
     "metadata": {},
     "output_type": "execute_result"
    }
   ],
   "source": [
    "l                             # <-- Value changed"
   ]
  },
  {
   "cell_type": "code",
   "execution_count": 58,
   "id": "cd7d7716",
   "metadata": {},
   "outputs": [],
   "source": [
    "\n",
    "#deep copy\n",
    "\n",
    "dc = copy.deepcopy(l)"
   ]
  },
  {
   "cell_type": "code",
   "execution_count": 59,
   "id": "13d0c17f",
   "metadata": {},
   "outputs": [
    {
     "data": {
      "text/plain": [
       "[3, 4, 5, [4, 7]]"
      ]
     },
     "execution_count": 59,
     "metadata": {},
     "output_type": "execute_result"
    }
   ],
   "source": [
    "dc"
   ]
  },
  {
   "cell_type": "code",
   "execution_count": 63,
   "id": "c95c660d",
   "metadata": {},
   "outputs": [],
   "source": [
    "dc[0] = 7"
   ]
  },
  {
   "cell_type": "code",
   "execution_count": 64,
   "id": "e4e772c7",
   "metadata": {},
   "outputs": [
    {
     "data": {
      "text/plain": [
       "[7, 4, 5, [4, 7]]"
      ]
     },
     "execution_count": 64,
     "metadata": {},
     "output_type": "execute_result"
    }
   ],
   "source": [
    "dc"
   ]
  },
  {
   "cell_type": "code",
   "execution_count": 65,
   "id": "e0a40fb5",
   "metadata": {},
   "outputs": [
    {
     "data": {
      "text/plain": [
       "[3, 4, 5, [4, 7]]"
      ]
     },
     "execution_count": 65,
     "metadata": {},
     "output_type": "execute_result"
    }
   ],
   "source": [
    "l"
   ]
  },
  {
   "cell_type": "code",
   "execution_count": null,
   "id": "c178b44a",
   "metadata": {},
   "outputs": [],
   "source": [
    "## In normal list shallow copy and deepcopy behaves the same"
   ]
  },
  {
   "cell_type": "code",
   "execution_count": null,
   "id": "5911b7a3",
   "metadata": {},
   "outputs": [],
   "source": [
    "As deepcopy creates copy of all the values recursively, so even if the value of nested collection is changed then the \n",
    "original value remains unchanged."
   ]
  },
  {
   "cell_type": "code",
   "execution_count": 66,
   "id": "581bce28",
   "metadata": {},
   "outputs": [],
   "source": [
    "dc[3][0] = 7"
   ]
  },
  {
   "cell_type": "code",
   "execution_count": 67,
   "id": "35a87e23",
   "metadata": {},
   "outputs": [
    {
     "data": {
      "text/plain": [
       "[7, 4, 5, [7, 7]]"
      ]
     },
     "execution_count": 67,
     "metadata": {},
     "output_type": "execute_result"
    }
   ],
   "source": [
    "dc"
   ]
  },
  {
   "cell_type": "code",
   "execution_count": 68,
   "id": "0f355f73",
   "metadata": {},
   "outputs": [
    {
     "data": {
      "text/plain": [
       "[3, 4, 5, [4, 7]]"
      ]
     },
     "execution_count": 68,
     "metadata": {},
     "output_type": "execute_result"
    }
   ],
   "source": [
    "l"
   ]
  },
  {
   "cell_type": "code",
   "execution_count": null,
   "id": "015c68a8",
   "metadata": {},
   "outputs": [],
   "source": []
  }
 ],
 "metadata": {
  "kernelspec": {
   "display_name": "Python 3 (ipykernel)",
   "language": "python",
   "name": "python3"
  },
  "language_info": {
   "codemirror_mode": {
    "name": "ipython",
    "version": 3
   },
   "file_extension": ".py",
   "mimetype": "text/x-python",
   "name": "python",
   "nbconvert_exporter": "python",
   "pygments_lexer": "ipython3",
   "version": "3.9.12"
  }
 },
 "nbformat": 4,
 "nbformat_minor": 5
}
