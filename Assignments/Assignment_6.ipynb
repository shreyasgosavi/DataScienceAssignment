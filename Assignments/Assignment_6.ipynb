{
 "cells": [
  {
   "cell_type": "markdown",
   "id": "0a4813e2",
   "metadata": {},
   "source": [
    "# ASSIGNMENT 6"
   ]
  },
  {
   "cell_type": "markdown",
   "id": "3b3f5e1f",
   "metadata": {},
   "source": [
    "## Question 1"
   ]
  },
  {
   "cell_type": "code",
   "execution_count": 1,
   "id": "c0cfe305",
   "metadata": {},
   "outputs": [
    {
     "name": "stdout",
     "output_type": "stream",
     "text": [
      "hi \\n hi  \n",
      " hi\n"
     ]
    }
   ],
   "source": [
    "print(\"hi \\\\n hi  \\n hi\")"
   ]
  },
  {
   "cell_type": "code",
   "execution_count": null,
   "id": "b1d0565d",
   "metadata": {},
   "outputs": [],
   "source": [
    "Escape characters are used to add characters to strings that can be misinterpreted and cause an error.\n",
    "\n",
    "Eg. \"\" <--- we using this to pass string argument in print() function, if we want to have \" in the print statement then it \n",
    "          will give an error.\n",
    "    "
   ]
  },
  {
   "cell_type": "code",
   "execution_count": 2,
   "id": "e0978b94",
   "metadata": {},
   "outputs": [
    {
     "ename": "SyntaxError",
     "evalue": "invalid syntax (2721553586.py, line 1)",
     "output_type": "error",
     "traceback": [
      "\u001b[1;36m  Input \u001b[1;32mIn [2]\u001b[1;36m\u001b[0m\n\u001b[1;33m    line = \"This is the example of \" the need of the escape character\"\u001b[0m\n\u001b[1;37m                                     ^\u001b[0m\n\u001b[1;31mSyntaxError\u001b[0m\u001b[1;31m:\u001b[0m invalid syntax\n"
     ]
    }
   ],
   "source": [
    "line = \"This is an example of \" the need of the escape character\"  # error: invalid syntax"
   ]
  },
  {
   "cell_type": "code",
   "execution_count": null,
   "id": "faca62ff",
   "metadata": {},
   "outputs": [],
   "source": [
    "Escape characters are represented by '\\'.."
   ]
  },
  {
   "cell_type": "code",
   "execution_count": 4,
   "id": "edacd42e",
   "metadata": {},
   "outputs": [],
   "source": [
    "line = \"This is an example of \\\" the need of the escape character\"  # no error :)"
   ]
  },
  {
   "cell_type": "code",
   "execution_count": null,
   "id": "56b46670",
   "metadata": {},
   "outputs": [],
   "source": [
    "Escape characters are also used to represent something like the tab spaces represented by \\t"
   ]
  },
  {
   "cell_type": "code",
   "execution_count": 10,
   "id": "14c79bec",
   "metadata": {},
   "outputs": [
    {
     "name": "stdout",
     "output_type": "stream",
     "text": [
      "This is an example of a \ttab \tspace\n"
     ]
    }
   ],
   "source": [
    "print(\"This is an example of a \\ttab \\tspace\")"
   ]
  },
  {
   "cell_type": "code",
   "execution_count": null,
   "id": "bfe6bf04",
   "metadata": {},
   "outputs": [],
   "source": []
  },
  {
   "cell_type": "markdown",
   "id": "3be6bf4e",
   "metadata": {},
   "source": [
    "## Question 2"
   ]
  },
  {
   "cell_type": "code",
   "execution_count": null,
   "id": "1fd2013e",
   "metadata": {},
   "outputs": [],
   "source": [
    "Escape character n means new line  ==>  '\\n' .\n",
    "Escape character t means tab space ==>  '\\t'"
   ]
  },
  {
   "cell_type": "markdown",
   "id": "f8f51f42",
   "metadata": {},
   "source": [
    "## Question 3"
   ]
  },
  {
   "cell_type": "code",
   "execution_count": null,
   "id": "7d011f96",
   "metadata": {},
   "outputs": [],
   "source": [
    "If we need to include '\\' to the string then add one-more \\ behind the existing \\"
   ]
  },
  {
   "cell_type": "code",
   "execution_count": 34,
   "id": "ed28acaa",
   "metadata": {},
   "outputs": [
    {
     "name": "stdout",
     "output_type": "stream",
     "text": [
      "Example \\\n"
     ]
    }
   ],
   "source": [
    "print(\"Example \\\\\")"
   ]
  },
  {
   "cell_type": "markdown",
   "id": "8137277c",
   "metadata": {},
   "source": [
    "## Question 4"
   ]
  },
  {
   "cell_type": "code",
   "execution_count": null,
   "id": "9cab0dbd",
   "metadata": {},
   "outputs": [],
   "source": [
    "s = \"Howl's Moving Castle\" <-- the single ' was not he problem as the starting quotes were double-quotes."
   ]
  },
  {
   "cell_type": "markdown",
   "id": "b0502661",
   "metadata": {},
   "source": [
    "## Question 5"
   ]
  },
  {
   "cell_type": "code",
   "execution_count": null,
   "id": "2c46dad2",
   "metadata": {},
   "outputs": [],
   "source": [
    "If we want to print new line in the string without using the '\\n' character then we make use of the argument of the print\n",
    "function 'end' to specify the ending of the string.\n",
    "\n",
    "By default the paramet value is set to '\\n'."
   ]
  },
  {
   "cell_type": "code",
   "execution_count": 35,
   "id": "af7ce1c4",
   "metadata": {},
   "outputs": [
    {
     "name": "stdout",
     "output_type": "stream",
     "text": [
      "hello\n",
      "This is new line\n"
     ]
    }
   ],
   "source": [
    "print(\"hello\")\n",
    "print(\"This is new line\")"
   ]
  },
  {
   "cell_type": "markdown",
   "id": "139dd568",
   "metadata": {},
   "source": [
    "## Question 6"
   ]
  },
  {
   "cell_type": "code",
   "execution_count": 36,
   "id": "74032c7d",
   "metadata": {},
   "outputs": [
    {
     "data": {
      "text/plain": [
       "'e'"
      ]
     },
     "execution_count": 36,
     "metadata": {},
     "output_type": "execute_result"
    }
   ],
   "source": [
    "'Hello, world!'[1]   #  'e'"
   ]
  },
  {
   "cell_type": "code",
   "execution_count": 37,
   "id": "a1191fb9",
   "metadata": {},
   "outputs": [
    {
     "data": {
      "text/plain": [
       "'Hello'"
      ]
     },
     "execution_count": 37,
     "metadata": {},
     "output_type": "execute_result"
    }
   ],
   "source": [
    "'Hello, world!'[0:5]  #    'Hello'"
   ]
  },
  {
   "cell_type": "code",
   "execution_count": 38,
   "id": "b305c4f1",
   "metadata": {},
   "outputs": [
    {
     "data": {
      "text/plain": [
       "'Hello'"
      ]
     },
     "execution_count": 38,
     "metadata": {},
     "output_type": "execute_result"
    }
   ],
   "source": [
    "'Hello, world!'[:5]   #     'Hello'"
   ]
  },
  {
   "cell_type": "code",
   "execution_count": 39,
   "id": "5490a36b",
   "metadata": {},
   "outputs": [
    {
     "data": {
      "text/plain": [
       "'lo, world!'"
      ]
     },
     "execution_count": 39,
     "metadata": {},
     "output_type": "execute_result"
    }
   ],
   "source": [
    "'Hello, world!'[3:]   #    'lo, world!'"
   ]
  },
  {
   "cell_type": "markdown",
   "id": "c3c5b541",
   "metadata": {},
   "source": [
    "## Question 7"
   ]
  },
  {
   "cell_type": "code",
   "execution_count": 41,
   "id": "160ed3b4",
   "metadata": {},
   "outputs": [
    {
     "data": {
      "text/plain": [
       "'HELLO'"
      ]
     },
     "execution_count": 41,
     "metadata": {},
     "output_type": "execute_result"
    }
   ],
   "source": [
    "'Hello'.upper()   #  'HELLO'"
   ]
  },
  {
   "cell_type": "code",
   "execution_count": 43,
   "id": "d9e54205",
   "metadata": {},
   "outputs": [
    {
     "data": {
      "text/plain": [
       "True"
      ]
     },
     "execution_count": 43,
     "metadata": {},
     "output_type": "execute_result"
    }
   ],
   "source": [
    "'Hello'.upper().isupper()   #  'True'"
   ]
  },
  {
   "cell_type": "code",
   "execution_count": 44,
   "id": "01e7b4c9",
   "metadata": {},
   "outputs": [
    {
     "data": {
      "text/plain": [
       "'hello'"
      ]
     },
     "execution_count": 44,
     "metadata": {},
     "output_type": "execute_result"
    }
   ],
   "source": [
    "'Hello'.upper().lower()     # 'hello'"
   ]
  },
  {
   "cell_type": "markdown",
   "id": "4a513602",
   "metadata": {},
   "source": [
    "## Question 8"
   ]
  },
  {
   "cell_type": "code",
   "execution_count": 45,
   "id": "dc7c125c",
   "metadata": {},
   "outputs": [
    {
     "data": {
      "text/plain": [
       "['Remember,', 'remember,', 'the', 'fifth', 'of', 'July.']"
      ]
     },
     "execution_count": 45,
     "metadata": {},
     "output_type": "execute_result"
    }
   ],
   "source": [
    "'Remember, remember, the fifth of July.'.split() # returns the list of words  ['Remember,', 'remember,', 'the', 'fifth', 'of', 'July.']"
   ]
  },
  {
   "cell_type": "code",
   "execution_count": 65,
   "id": "c2373845",
   "metadata": {},
   "outputs": [
    {
     "data": {
      "text/plain": [
       "'There-can-only-one.'"
      ]
     },
     "execution_count": 65,
     "metadata": {},
     "output_type": "execute_result"
    }
   ],
   "source": [
    "'-'.join('There can only one.'.split())   #   'There-can-only-one.'"
   ]
  },
  {
   "cell_type": "markdown",
   "id": "c9b71005",
   "metadata": {},
   "source": [
    "## Question 9"
   ]
  },
  {
   "cell_type": "code",
   "execution_count": 68,
   "id": "61b54f5f",
   "metadata": {},
   "outputs": [],
   "source": [
    "st =\"Center\""
   ]
  },
  {
   "cell_type": "code",
   "execution_count": 70,
   "id": "55de8561",
   "metadata": {},
   "outputs": [
    {
     "data": {
      "text/plain": [
       "'%%Center%%'"
      ]
     },
     "execution_count": 70,
     "metadata": {},
     "output_type": "execute_result"
    }
   ],
   "source": [
    "st.center(10,'%')     #  <-- "
   ]
  },
  {
   "cell_type": "markdown",
   "id": "9b75e846",
   "metadata": {},
   "source": [
    "## Question 10"
   ]
  },
  {
   "cell_type": "code",
   "execution_count": 3,
   "id": "45c08698",
   "metadata": {},
   "outputs": [],
   "source": [
    "st = \"   This string has blankspaces  \""
   ]
  },
  {
   "cell_type": "code",
   "execution_count": 4,
   "id": "66bb7972",
   "metadata": {},
   "outputs": [
    {
     "data": {
      "text/plain": [
       "'This string has blankspaces'"
      ]
     },
     "execution_count": 4,
     "metadata": {},
     "output_type": "execute_result"
    }
   ],
   "source": [
    "st.strip()"
   ]
  },
  {
   "cell_type": "code",
   "execution_count": null,
   "id": "ea0095b7",
   "metadata": {},
   "outputs": [],
   "source": [
    "The strip() method is used to remove the white spaces from before and after the string.\n",
    "There are methods for removing the spaces only from one of the end."
   ]
  },
  {
   "cell_type": "code",
   "execution_count": 5,
   "id": "2757273b",
   "metadata": {},
   "outputs": [
    {
     "data": {
      "text/plain": [
       "'This string has blankspaces  '"
      ]
     },
     "execution_count": 5,
     "metadata": {},
     "output_type": "execute_result"
    }
   ],
   "source": [
    "st.lstrip()"
   ]
  },
  {
   "cell_type": "code",
   "execution_count": 6,
   "id": "7305d626",
   "metadata": {},
   "outputs": [
    {
     "data": {
      "text/plain": [
       "'   This string has blankspaces'"
      ]
     },
     "execution_count": 6,
     "metadata": {},
     "output_type": "execute_result"
    }
   ],
   "source": [
    "st.rstrip()"
   ]
  },
  {
   "cell_type": "code",
   "execution_count": null,
   "id": "d8b26163",
   "metadata": {},
   "outputs": [],
   "source": []
  }
 ],
 "metadata": {
  "kernelspec": {
   "display_name": "Python 3 (ipykernel)",
   "language": "python",
   "name": "python3"
  },
  "language_info": {
   "codemirror_mode": {
    "name": "ipython",
    "version": 3
   },
   "file_extension": ".py",
   "mimetype": "text/x-python",
   "name": "python",
   "nbconvert_exporter": "python",
   "pygments_lexer": "ipython3",
   "version": "3.9.12"
  }
 },
 "nbformat": 4,
 "nbformat_minor": 5
}
