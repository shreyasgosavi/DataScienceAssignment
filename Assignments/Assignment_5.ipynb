{
 "cells": [
  {
   "cell_type": "markdown",
   "id": "61b05c11",
   "metadata": {},
   "source": [
    "# Assignment 5"
   ]
  },
  {
   "cell_type": "markdown",
   "id": "6488cea6",
   "metadata": {},
   "source": [
    "## Question 1"
   ]
  },
  {
   "cell_type": "code",
   "execution_count": 1,
   "id": "b7e08163",
   "metadata": {},
   "outputs": [],
   "source": [
    "d = dict()"
   ]
  },
  {
   "cell_type": "code",
   "execution_count": 14,
   "id": "8627ec72",
   "metadata": {},
   "outputs": [],
   "source": [
    "#OR\n",
    "d = {}"
   ]
  },
  {
   "cell_type": "code",
   "execution_count": 15,
   "id": "b2aa55dd",
   "metadata": {},
   "outputs": [
    {
     "data": {
      "text/plain": [
       "{}"
      ]
     },
     "execution_count": 15,
     "metadata": {},
     "output_type": "execute_result"
    }
   ],
   "source": [
    "d"
   ]
  },
  {
   "cell_type": "code",
   "execution_count": 16,
   "id": "3080ffe3",
   "metadata": {},
   "outputs": [
    {
     "data": {
      "text/plain": [
       "dict"
      ]
     },
     "execution_count": 16,
     "metadata": {},
     "output_type": "execute_result"
    }
   ],
   "source": [
    "type(d)"
   ]
  },
  {
   "cell_type": "markdown",
   "id": "a8defeb4",
   "metadata": {},
   "source": [
    "## Question 2"
   ]
  },
  {
   "cell_type": "code",
   "execution_count": 18,
   "id": "3fffe6eb",
   "metadata": {},
   "outputs": [],
   "source": [
    "d = {'foo' : 42,}"
   ]
  },
  {
   "cell_type": "code",
   "execution_count": 20,
   "id": "cab0504c",
   "metadata": {},
   "outputs": [
    {
     "data": {
      "text/plain": [
       "42"
      ]
     },
     "execution_count": 20,
     "metadata": {},
     "output_type": "execute_result"
    }
   ],
   "source": [
    "d['foo']"
   ]
  },
  {
   "cell_type": "code",
   "execution_count": 21,
   "id": "9b4b0b1e",
   "metadata": {},
   "outputs": [
    {
     "ename": "SyntaxError",
     "evalue": "invalid syntax (2612041373.py, line 1)",
     "output_type": "error",
     "traceback": [
      "\u001b[1;36m  Input \u001b[1;32mIn [21]\u001b[1;36m\u001b[0m\n\u001b[1;33m    The value is 42\u001b[0m\n\u001b[1;37m        ^\u001b[0m\n\u001b[1;31mSyntaxError\u001b[0m\u001b[1;31m:\u001b[0m invalid syntax\n"
     ]
    }
   ],
   "source": [
    "The value is 42"
   ]
  },
  {
   "cell_type": "markdown",
   "id": "aeef1175",
   "metadata": {},
   "source": [
    "## Question 3"
   ]
  },
  {
   "cell_type": "code",
   "execution_count": null,
   "id": "92853f79",
   "metadata": {},
   "outputs": [],
   "source": [
    "Dictionary and list both are collections objects which are used to store the elements.\n",
    "\n",
    "\n",
    "Differences :\n",
    "    1. Dictionary stores elements as the key-value pair whereas list stores the value as normal variables.\n",
    "    2. Dictionary uses '{}' symbol, List uses '[]' symbol.\n",
    "    3. In dictionary we access the element through their keys, in list we access the elements through the indexes\n",
    "    4. Dictionary is iterable over the key, lists are iterable through indexes\n"
   ]
  },
  {
   "cell_type": "markdown",
   "id": "aec77937",
   "metadata": {},
   "source": [
    "## Question4"
   ]
  },
  {
   "cell_type": "code",
   "execution_count": 1,
   "id": "f0d65c66",
   "metadata": {},
   "outputs": [],
   "source": [
    "spam = {'bar':100}"
   ]
  },
  {
   "cell_type": "code",
   "execution_count": 2,
   "id": "363f26e9",
   "metadata": {},
   "outputs": [
    {
     "ename": "KeyError",
     "evalue": "'foo'",
     "output_type": "error",
     "traceback": [
      "\u001b[1;31m---------------------------------------------------------------------------\u001b[0m",
      "\u001b[1;31mKeyError\u001b[0m                                  Traceback (most recent call last)",
      "Input \u001b[1;32mIn [2]\u001b[0m, in \u001b[0;36m<cell line: 1>\u001b[1;34m()\u001b[0m\n\u001b[1;32m----> 1\u001b[0m \u001b[43mspam\u001b[49m\u001b[43m[\u001b[49m\u001b[38;5;124;43m'\u001b[39;49m\u001b[38;5;124;43mfoo\u001b[39;49m\u001b[38;5;124;43m'\u001b[39;49m\u001b[43m]\u001b[49m\n",
      "\u001b[1;31mKeyError\u001b[0m: 'foo'"
     ]
    }
   ],
   "source": [
    "spam['foo']"
   ]
  },
  {
   "cell_type": "code",
   "execution_count": null,
   "id": "0159cfc5",
   "metadata": {},
   "outputs": [],
   "source": [
    "If we try to access the value as mentioned above then we will get the key error"
   ]
  },
  {
   "cell_type": "markdown",
   "id": "d6e567a2",
   "metadata": {},
   "source": [
    "## Question 5"
   ]
  },
  {
   "cell_type": "code",
   "execution_count": 14,
   "id": "ff3323a2",
   "metadata": {},
   "outputs": [],
   "source": [
    "spam = {'cat':5}"
   ]
  },
  {
   "cell_type": "code",
   "execution_count": 19,
   "id": "d2d6bdc3",
   "metadata": {},
   "outputs": [
    {
     "data": {
      "text/plain": [
       "5"
      ]
     },
     "execution_count": 19,
     "metadata": {},
     "output_type": "execute_result"
    }
   ],
   "source": [
    "spam['cat']"
   ]
  },
  {
   "cell_type": "code",
   "execution_count": 16,
   "id": "872382d3",
   "metadata": {},
   "outputs": [
    {
     "data": {
      "text/plain": [
       "dict_keys(['cat'])"
      ]
     },
     "execution_count": 16,
     "metadata": {},
     "output_type": "execute_result"
    }
   ],
   "source": [
    "spam.keys()"
   ]
  },
  {
   "cell_type": "code",
   "execution_count": null,
   "id": "71e214e5",
   "metadata": {},
   "outputs": [],
   "source": [
    "There is no difference as both check for the key present in the dictionary."
   ]
  },
  {
   "cell_type": "markdown",
   "id": "9de1ed49",
   "metadata": {},
   "source": [
    "## Question 6"
   ]
  },
  {
   "cell_type": "code",
   "execution_count": 17,
   "id": "26640748",
   "metadata": {},
   "outputs": [
    {
     "ename": "SyntaxError",
     "evalue": "invalid syntax (3607084233.py, line 1)",
     "output_type": "error",
     "traceback": [
      "\u001b[1;36m  Input \u001b[1;32mIn [17]\u001b[1;36m\u001b[0m\n\u001b[1;33m    There is a difference as 'cat' in spam looks for the key as mentioned above and 'cat' in key.values() checks for the value\u001b[0m\n\u001b[1;37m               ^\u001b[0m\n\u001b[1;31mSyntaxError\u001b[0m\u001b[1;31m:\u001b[0m invalid syntax\n"
     ]
    }
   ],
   "source": [
    "There is a difference as 'cat' in spam looks for the key as mentioned above and 'cat' in key.values() checks for the value\n",
    "'cat' associated with one of the key"
   ]
  },
  {
   "cell_type": "markdown",
   "id": "bf6b529c",
   "metadata": {},
   "source": [
    "## Question 7"
   ]
  },
  {
   "cell_type": "code",
   "execution_count": 20,
   "id": "fb70c535",
   "metadata": {},
   "outputs": [
    {
     "data": {
      "text/plain": [
       "'black'"
      ]
     },
     "execution_count": 20,
     "metadata": {},
     "output_type": "execute_result"
    }
   ],
   "source": [
    "#Shortcut\n",
    "spam.setdefault(\"color\", 'black') "
   ]
  },
  {
   "cell_type": "markdown",
   "id": "e3d5e152",
   "metadata": {},
   "source": [
    "## Question 8"
   ]
  },
  {
   "cell_type": "code",
   "execution_count": null,
   "id": "083bad16",
   "metadata": {},
   "outputs": [],
   "source": [
    "We can print simply by using the print function"
   ]
  },
  {
   "cell_type": "code",
   "execution_count": 30,
   "id": "3215fc51",
   "metadata": {},
   "outputs": [
    {
     "name": "stdout",
     "output_type": "stream",
     "text": [
      "{'cat': 5, 'color': 'black'}\n"
     ]
    }
   ],
   "source": [
    "print(spam) #{'cat': 5, 'color': 'black'}"
   ]
  },
  {
   "cell_type": "code",
   "execution_count": null,
   "id": "ef22c9e9",
   "metadata": {},
   "outputs": [],
   "source": []
  }
 ],
 "metadata": {
  "kernelspec": {
   "display_name": "Python 3 (ipykernel)",
   "language": "python",
   "name": "python3"
  },
  "language_info": {
   "codemirror_mode": {
    "name": "ipython",
    "version": 3
   },
   "file_extension": ".py",
   "mimetype": "text/x-python",
   "name": "python",
   "nbconvert_exporter": "python",
   "pygments_lexer": "ipython3",
   "version": "3.9.12"
  }
 },
 "nbformat": 4,
 "nbformat_minor": 5
}
